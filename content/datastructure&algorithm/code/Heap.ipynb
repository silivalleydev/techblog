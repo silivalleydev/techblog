{
 "cells": [
  {
   "cell_type": "code",
   "execution_count": 10,
   "metadata": {},
   "outputs": [
    {
     "name": "stdout",
     "output_type": "stream",
     "text": [
      "[None, 30, 20, 15, 10, 4, 8, 12, 5]\n"
     ]
    }
   ],
   "source": [
    "\n",
    "class Heap:\n",
    "    def __init__(self, data):\n",
    "        # 힙을 구현할 때는 배열로 구현하는데 인덱스 0은 제외시키기 위해 None을 넣어주고 시작한다\n",
    "        self.heap_array = list()\n",
    "        self.heap_array.append(None)\n",
    "        self.heap_array.append(data)\n",
    "        \n",
    "    # 삽입된 노드가 상위보드보다 값이 커서 바꿔야되는지 판단하는 메서드\n",
    "    def move_up(self, inserted_idx):\n",
    "\n",
    "        # inserted_idx가 1보다 작으면 루트노드이기 때문에 판단 할필요없이 false이다\n",
    "        if inserted_idx <= 1:\n",
    "            return False\n",
    "        \n",
    "        # 부모노드 인덱스를 구하고\n",
    "        parent_idx = inserted_idx // 2\n",
    "        # 입력노드가 부모노드보다 크다면 True를 반환하여 바꿔줌\n",
    "        if self.heap_array[inserted_idx] > self.heap_array[parent_idx]:\n",
    "            return True\n",
    "        else:\n",
    "            return False\n",
    "        \n",
    "    def insert(self, data):\n",
    "        if len(self.heap_array) == 0:\n",
    "            self.heap_array.append(None)\n",
    "            self.heap_array.append(data)\n",
    "            return True\n",
    "        \n",
    "        self.heap_array.append(data)\n",
    "        \n",
    "        # 들어가는 값이 배열의 맨끝에 들어가기 때문에 배열의 길이에 -1을 하면 insert될때 들어간 값의 인덱스를 얻을 수 있다\n",
    "        # 여기서부터는 힙 자료구조에서 입력된 값이 부모노드보다 큰 경우에 스위칭하기 위한 알고리즘이다\n",
    "        inserted_idx = len(self.heap_array) - 1 \n",
    "    \n",
    "        # move_up 메서드로 입력노드와 부모노드의 크기 차이를 비교해서 리턴해준다\n",
    "        while self.move_up(inserted_idx):\n",
    "            # 스왑하기 위해 부모 노드의 인덱스를 얻어야한다 자식노드의 인덱스의 몫을 구하면된다\n",
    "            parent_idx = inserted_idx // 2\n",
    "            # 아래의 문법은 스왑을 표현한 것으로 ,콤마를 기준으로 1,2 = 2,1 순서로하면 앞에 1이 2로 바뀌고 뒤에 2가 뒤에 1로 바뀌는 구조이다\n",
    "            self.heap_array[inserted_idx],self.heap_array[parent_idx] = self.heap_array[parent_idx],self.heap_array[inserted_idx]\n",
    "            # 원래 삽입된 노드의 인덱스가 부모노드의 인덱스로 바뀌었기 때문에 아래와 같이 부모노드의 인덱스를 입력 인덱스에 넣어주고\n",
    "            inserted_idx = parent_idx\n",
    "        \n",
    "        return True\n",
    "            \n",
    "        \n",
    "heap = Heap(15)\n",
    "\n",
    "heap.insert(10)\n",
    "heap.insert(8)\n",
    "heap.insert(5)\n",
    "heap.insert(4)\n",
    "heap.insert(20)\n",
    "heap.insert(12)\n",
    "heap.insert(30)\n",
    "\n",
    "print(heap.heap_array)\n",
    "\n",
    "    "
   ]
  },
  {
   "cell_type": "code",
   "execution_count": null,
   "metadata": {},
   "outputs": [],
   "source": []
  }
 ],
 "metadata": {
  "kernelspec": {
   "display_name": "Python 3",
   "language": "python",
   "name": "python3"
  },
  "language_info": {
   "codemirror_mode": {
    "name": "ipython",
    "version": 3
   },
   "file_extension": ".py",
   "mimetype": "text/x-python",
   "name": "python",
   "nbconvert_exporter": "python",
   "pygments_lexer": "ipython3",
   "version": "3.8.5"
  }
 },
 "nbformat": 4,
 "nbformat_minor": 4
}

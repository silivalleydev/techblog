{
 "cells": [
  {
   "cell_type": "code",
   "execution_count": 17,
   "metadata": {},
   "outputs": [
    {
     "name": "stdout",
     "output_type": "stream",
     "text": [
      "[5, 4, 2, 1]\n",
      "4\n",
      "4\n",
      "3\n",
      "2\n",
      "[1, 2, 4, 5]\n"
     ]
    }
   ],
   "source": [
    "arr = list()\n",
    "\n",
    "arr.append(5)\n",
    "arr.append(4)\n",
    "arr.append(2)\n",
    "arr.append(1)\n",
    "\n",
    "\n",
    "def bubble_sort(arr):\n",
    "    arr_total_len = len(arr)\n",
    "    while arr_total_len != 1:\n",
    "        for i in range(arr_total_len - 1):\n",
    "            if arr[i] > arr[i+1]:\n",
    "                arr[i],arr[i+1] = arr[i+1],arr[i]\n",
    "        arr_total_len -= 1\n",
    "    \n",
    "bubble_sort(arr)\n",
    "\n",
    "print(arr)"
   ]
  },
  {
   "cell_type": "code",
   "execution_count": null,
   "metadata": {},
   "outputs": [],
   "source": []
  }
 ],
 "metadata": {
  "kernelspec": {
   "display_name": "Python 3",
   "language": "python",
   "name": "python3"
  },
  "language_info": {
   "codemirror_mode": {
    "name": "ipython",
    "version": 3
   },
   "file_extension": ".py",
   "mimetype": "text/x-python",
   "name": "python",
   "nbconvert_exporter": "python",
   "pygments_lexer": "ipython3",
   "version": "3.8.5"
  }
 },
 "nbformat": 4,
 "nbformat_minor": 4
}

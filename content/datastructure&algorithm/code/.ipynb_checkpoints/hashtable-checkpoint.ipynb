{
 "cells": [
  {
   "cell_type": "code",
   "execution_count": 7,
   "metadata": {},
   "outputs": [
    {
     "name": "stdout",
     "output_type": "stream",
     "text": [
      "[0, 0, 0, 0, 0, 0, 0, 0, 0, 0]\n",
      "[0, 0, 0, 0, 0, 0, 0, 0, 0, 0]\n"
     ]
    }
   ],
   "source": [
    "# 초간단 해시 테이블 만들기\n",
    "# 아래의 문법은 파이썬 list comprehension\n",
    "# list([append에 넣을값 for i in range(반복횟수)])\n",
    "hash_table = list([0 for i in range(10)])\n",
    "print(hash_table)\n",
    "\n",
    "# 위의 내용은 아래와 같다\n",
    "hash_table2 = []\n",
    "for i in range(10):\n",
    "    hash_table2.append(0)\n",
    "\n",
    "print(hash_table2)"
   ]
  },
  {
   "cell_type": "code",
   "execution_count": 13,
   "metadata": {},
   "outputs": [
    {
     "name": "stdout",
     "output_type": "stream",
     "text": [
      "74 77 76\n",
      "data1 key => 4\n",
      "010-2222-3333 010-4444-5555 010-6666-7777\n"
     ]
    }
   ],
   "source": [
    "# 해시 함수 만들기\n",
    "# devision법 : 나머지를 통한것\n",
    "def hash_func(key):\n",
    "    return key % 5\n",
    "# 위의 함수를 통해 key를 넣게되면 해시 주소가 고정된 길이 5로나눈 나머지 값으로 나오게될것이다\n",
    "\n",
    "\n",
    "# 해시 테이블에 데이터 저장\n",
    "data1 = 'Jack'\n",
    "data2 = 'Marry'\n",
    "data3 = 'LoL'\n",
    "data4 = 'Jall'\n",
    "\n",
    "# ord(): ASC||(아스키 코드)를 리턴함\n",
    "# 각 문자열의 앞글자를 키값으로 사용\n",
    "print(ord(data1[0]), ord(data2[0]), ord(data3[0]))\n",
    "data1_key = ord(data1[0])\n",
    "print('data1 key =>', hash_func(data1_key)) # 해시 함수를 통해 도출된 4가 해시 주소가 되는것이다\n",
    "\n",
    "# 해시 주소를 가지고 데이터를 저장\n",
    "def storage_data(data, value):\n",
    "    # 데이터로 키를 만들고\n",
    "    key = ord(data[0])\n",
    "    # 해시 함수에 키를 넣어 해시 주소를 만들고\n",
    "    hash_address = hash_func(key)\n",
    "    # 만든 해시 주소에 맞는 슬롯에 값을 넣음\n",
    "    hash_table[hash_address] = value\n",
    "    \n",
    "# 데이터 저장하고 읽기\n",
    "storage_data(data1, '010-2222-3333')\n",
    "storage_data(data2, '010-4444-5555')\n",
    "storage_data(data3, '010-6666-7777')\n",
    "\n",
    "def get_data(data):\n",
    "    key = ord(data[0])\n",
    "    hash_address = hash_func(key)\n",
    "    return hash_table[hash_address]\n",
    "\n",
    "print(get_data(data1), get_data(data2), get_data(data3))"
   ]
  },
  {
   "cell_type": "code",
   "execution_count": null,
   "metadata": {},
   "outputs": [],
   "source": []
  }
 ],
 "metadata": {
  "kernelspec": {
   "display_name": "Python 3",
   "language": "python",
   "name": "python3"
  },
  "language_info": {
   "codemirror_mode": {
    "name": "ipython",
    "version": 3
   },
   "file_extension": ".py",
   "mimetype": "text/x-python",
   "name": "python",
   "nbconvert_exporter": "python",
   "pygments_lexer": "ipython3",
   "version": "3.8.5"
  }
 },
 "nbformat": 4,
 "nbformat_minor": 4
}

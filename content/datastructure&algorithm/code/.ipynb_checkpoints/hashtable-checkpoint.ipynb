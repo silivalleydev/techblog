{
 "cells": [
  {
   "cell_type": "code",
   "execution_count": 7,
   "metadata": {},
   "outputs": [
    {
     "name": "stdout",
     "output_type": "stream",
     "text": [
      "[0, 0, 0, 0, 0, 0, 0, 0, 0, 0]\n",
      "[0, 0, 0, 0, 0, 0, 0, 0, 0, 0]\n"
     ]
    }
   ],
   "source": [
    "# 초간단 해시 테이블 만들기\n",
    "# 아래의 문법은 파이썬 list comprehension\n",
    "# list([append에 넣을값 for i in range(반복횟수)])\n",
    "hash_table = list([0 for i in range(10)])\n",
    "print(hash_table)\n",
    "\n",
    "# 위의 내용은 아래와 같다\n",
    "hash_table2 = []\n",
    "for i in range(10):\n",
    "    hash_table2.append(0)\n",
    "\n",
    "print(hash_table2)"
   ]
  },
  {
   "cell_type": "code",
   "execution_count": 19,
   "metadata": {},
   "outputs": [
    {
     "name": "stdout",
     "output_type": "stream",
     "text": [
      "74 77 76 74\n",
      "data1 key => 4\n",
      "010-8883-7777 010-4444-5555 010-6666-7777 010-8883-7777\n"
     ]
    }
   ],
   "source": [
    "# 해시 함수 만들기\n",
    "# devision법 : 나머지를 통한것\n",
    "def hash_func(key):\n",
    "    return key % 5\n",
    "# 위의 함수를 통해 key를 넣게되면 해시 주소가 고정된 길이 5로나눈 나머지 값으로 나오게될것이다\n",
    "\n",
    "\n",
    "# 해시 테이블에 데이터 저장\n",
    "data1 = 'Jack'\n",
    "data2 = 'Marry'\n",
    "data3 = 'LoL'\n",
    "data4 = 'Jall'\n",
    "\n",
    "# ord(): ASC||(아스키 코드)를 리턴함\n",
    "# 각 문자열의 앞글자를 키값으로 사용\n",
    "print(ord(data1[0]), ord(data2[0]), ord(data3[0]), ord(data4[0]))\n",
    "data1_key = ord(data1[0])\n",
    "print('data1 key =>', hash_func(data1_key)) # 해시 함수를 통해 도출된 4가 해시 주소가 되는것이다\n",
    "\n",
    "# 해시 주소를 가지고 데이터를 저장\n",
    "def storage_data(data, value):\n",
    "    # 데이터로 키를 만들고\n",
    "    key = ord(data[0])\n",
    "    # 해시 함수에 키를 넣어 해시 주소를 만들고\n",
    "    hash_address = hash_func(key)\n",
    "    # 만든 해시 주소에 맞는 슬롯에 값을 넣음\n",
    "    hash_table[hash_address] = value\n",
    "    \n",
    "# 데이터 저장하고 읽기\n",
    "storage_data(data1, '010-2222-3333')\n",
    "storage_data(data2, '010-4444-5555')\n",
    "storage_data(data3, '010-6666-7777')\n",
    "storage_data(data4, '010-8883-7777')\n",
    "\n",
    "def get_data(data):\n",
    "    key = ord(data[0])\n",
    "    hash_address = hash_func(key)\n",
    "    return hash_table[hash_address]\n",
    "\n",
    "print(get_data(data1), get_data(data2), get_data(data3), get_data(data4))"
   ]
  },
  {
   "cell_type": "code",
   "execution_count": 20,
   "metadata": {},
   "outputs": [
    {
     "data": {
      "text/plain": [
       "-6037821185857213912"
      ]
     },
     "execution_count": 20,
     "metadata": {},
     "output_type": "execute_result"
    }
   ],
   "source": [
    "hash('Dave')"
   ]
  },
  {
   "cell_type": "code",
   "execution_count": 27,
   "metadata": {},
   "outputs": [
    {
     "name": "stdout",
     "output_type": "stream",
     "text": [
      "[0, 0, 0, 0, 0, 0, 0, 0, 0, 0]\n",
      "0\n",
      "6\n",
      "2\n",
      "5\n"
     ]
    },
    {
     "data": {
      "text/plain": [
       "'01055556323'"
      ]
     },
     "execution_count": 27,
     "metadata": {},
     "output_type": "execute_result"
    }
   ],
   "source": [
    "hash_table = list([0 for i in range(10)])\n",
    "print(hash_table)\n",
    "\n",
    "def hash_func(key):\n",
    "    return key % 8\n",
    "\n",
    "def get_key(data):\n",
    "    return hash(data)\n",
    "\n",
    "def save_data(data, value):\n",
    "    hash_address = hash_func(get_key(data))\n",
    "    print(hash_address)\n",
    "    hash_table[hash_address] = value\n",
    "    \n",
    "def read_data(data):\n",
    "    hash_address = hash_func(get_key(data))\n",
    "    return hash_table[hash_address]\n",
    "\n",
    "user1 = 'Dave'\n",
    "user2 = 'Jack'\n",
    "user3 = 'Dan'\n",
    "user4 = 'Dark'\n",
    "\n",
    "save_data(user1, '01022322023')\n",
    "save_data(user2, '01044353323')\n",
    "save_data(user3, '01055556323')\n",
    "save_data(user4, '07023432442')\n",
    "\n",
    "read_data(user3)"
   ]
  },
  {
   "cell_type": "code",
   "execution_count": 28,
   "metadata": {},
   "outputs": [
    {
     "data": {
      "text/plain": [
       "['01022322023', 0, '01055556323', 0, 0, '07023432442', '01044353323', 0, 0, 0]"
      ]
     },
     "execution_count": 28,
     "metadata": {},
     "output_type": "execute_result"
    }
   ],
   "source": [
    "hash_table"
   ]
  },
  {
   "cell_type": "code",
   "execution_count": 55,
   "metadata": {},
   "outputs": [
    {
     "name": "stdout",
     "output_type": "stream",
     "text": [
      "[0, 0, 0, 0, 0, 0, 0, 0, 0, 0]\n",
      "7\n",
      "1\n",
      "7\n",
      "[0, [[-2537921463249980087, '333333']], 0, 0, 0, 0, 0, [[6642054343349755527, '222222'], [-3957741891224355593, '444444']], 0, 0]\n",
      "None\n",
      "333333\n",
      "None\n"
     ]
    }
   ],
   "source": [
    "hash_table2 = list([0 for i in range(10)])\n",
    "print(hash_table2)\n",
    "\n",
    "def hash_func(key):\n",
    "    return key % 8\n",
    "\n",
    "def get_key(data):\n",
    "    return hash(data)\n",
    "\n",
    "def save_data(data, value):\n",
    "    index_key = get_key(data)\n",
    "    hash_address = hash_func(index_key)\n",
    "    # 슬롯을 만들때 0을 넣어줬기때문에 0이랑 비교함 아래의 상황이 아니라면 일단 데이터가 있다는 것\n",
    "    if hash_table2[hash_address] != 0:\n",
    "        # linked리스트로 구현하면 오래걸리기 때문에 일단 list를 이용하여 구현.\n",
    "        for index in range(len(hash_table2[hash_address])):\n",
    "            # hash_table의 hash_address에 슬롯에 리스트로 있기 때문에 for문으로 검색을하고\n",
    "            # 그 0번째 배열을 검색하는것은 그 키값이 현재 입력된 데이터의 키값과 같은지 확인하기 위함임\n",
    "            if hash_table2[hash_address][index][0] == index_key:\n",
    "                hash_table2[hash_address][index][1] = value\n",
    "                return\n",
    "            hash_table2[hash_address].append([index_key, value])\n",
    "    else:\n",
    "        # 데이터가 0인 경우(없는 경우)\n",
    "        hash_table2[hash_address] = [[index_key, value]]\n",
    "    \n",
    "def read_data(data):\n",
    "    index_key = get_key(data)\n",
    "    hash_address = hash_func(index_key)\n",
    "    if hash_table2[hash_address] != 0:\n",
    "        # 0이 아니라는 것은 데이터가 저장되어있다는 것\n",
    "        for index in range(len(hash_table2[hash_address])):\n",
    "            if hash_table2[hash_address][index][0] == index_key:\n",
    "                return hash_table2[hash_address][index][1]\n",
    "    else:\n",
    "        # 데이터가 없는것이기 때문에 읽지 못하는것\n",
    "        return None\n",
    "\n",
    "print(hash('David') % 8)\n",
    "print(hash('Dd') % 8)\n",
    "print(hash('Data') % 8)\n",
    "\n",
    "save_data('David','222222')\n",
    "save_data('Dd','333333')\n",
    "save_data('Data','444444')\n",
    "print(hash_table2)\n",
    "\n",
    "print(read_data('David'))\n",
    "print(read_data('Dd'))\n",
    "print(read_data('Data'))"
   ]
  },
  {
   "cell_type": "code",
   "execution_count": null,
   "metadata": {},
   "outputs": [],
   "source": []
  },
  {
   "cell_type": "code",
   "execution_count": null,
   "metadata": {},
   "outputs": [],
   "source": []
  },
  {
   "cell_type": "code",
   "execution_count": null,
   "metadata": {},
   "outputs": [],
   "source": []
  }
 ],
 "metadata": {
  "kernelspec": {
   "display_name": "Python 3",
   "language": "python",
   "name": "python3"
  },
  "language_info": {
   "codemirror_mode": {
    "name": "ipython",
    "version": 3
   },
   "file_extension": ".py",
   "mimetype": "text/x-python",
   "name": "python",
   "nbconvert_exporter": "python",
   "pygments_lexer": "ipython3",
   "version": "3.8.5"
  }
 },
 "nbformat": 4,
 "nbformat_minor": 4
}

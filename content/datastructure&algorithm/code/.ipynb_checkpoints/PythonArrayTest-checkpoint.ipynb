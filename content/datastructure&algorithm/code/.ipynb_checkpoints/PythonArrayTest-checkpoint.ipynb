{
 "cells": [
  {
   "cell_type": "code",
   "execution_count": null,
   "metadata": {},
   "outputs": [],
   "source": [
    "# 파이썬과 배열: 리스트로 구현시"
   ]
  },
  {
   "cell_type": "code",
   "execution_count": 1,
   "metadata": {},
   "outputs": [
    {
     "name": "stdout",
     "output_type": "stream",
     "text": [
      "[1, 2, 3, 4, 5]\n"
     ]
    }
   ],
   "source": [
    "data = [1,2,3,4,5]\n",
    "print(data)"
   ]
  },
  {
   "cell_type": "code",
   "execution_count": 6,
   "metadata": {},
   "outputs": [
    {
     "name": "stdout",
     "output_type": "stream",
     "text": [
      "[1, 2, 3]\n",
      "1\n"
     ]
    }
   ],
   "source": [
    "# 2차원 배열: 리스트로 구현시\n",
    "data = [[1,2,3],[4,5,6],[7,8,9]]\n",
    "# 주피터에서는 print문 안쓰고도 데이터를 확인할 수 있다.\n",
    "data\n",
    "# 인덱스에 직접 접근할 수 있다\n",
    "print(data[0])\n",
    "# 2차원배열의 경우는 대괄호 두개로 데이터에 접근 할 수 있다\n",
    "print(data[0][0])"
   ]
  },
  {
   "cell_type": "code",
   "execution_count": 19,
   "metadata": {},
   "outputs": [
    {
     "name": "stdout",
     "output_type": "stream",
     "text": [
      "9\n",
      "8\n",
      "7\n"
     ]
    }
   ],
   "source": [
    "## 3. 프로그래밍 연습\n",
    "\n",
    "#### 위의 2차원 배열에서 9, 8, 7 순서로 출력해보기\n",
    "\n",
    "add = 3\n",
    "for i in range(0,3):\n",
    "    add = add - 1\n",
    "    print(data[2][add])"
   ]
  },
  {
   "cell_type": "code",
   "execution_count": 38,
   "metadata": {},
   "outputs": [
    {
     "data": {
      "text/plain": [
       "26"
      ]
     },
     "execution_count": 38,
     "metadata": {},
     "output_type": "execute_result"
    }
   ],
   "source": [
    "## 배열의 M이 몇개 포함되어있는가 확인\n",
    "\n",
    "## 내풀이\n",
    "dataset = ['MM','MMM','MMMSMSMSMS','FDFDSDFF','MDFSM']\n",
    "\n",
    "n = len(dataset)\n",
    "count = 0\n",
    "for i in range(0, n):\n",
    "    k = len(dataset[i])\n",
    "    for j in range(0, k):\n",
    "        if(dataset[i][j] == 'M'):\n",
    "            count = count + 1\n",
    "            \n",
    "\n",
    "## 선생님풀이 for in으로 배열의 각 요소에 바로 접근가능\n",
    "## range함수를 이용하면 0부터 배열의 길이까지 얻을 수 있음\n",
    "for data in dataset:\n",
    "    for index in range(len(data)):\n",
    "        if(data[index] == 'M'):\n",
    "            count += 1\n",
    "            \n",
    "count"
   ]
  },
  {
   "cell_type": "code",
   "execution_count": null,
   "metadata": {},
   "outputs": [],
   "source": []
  }
 ],
 "metadata": {
  "kernelspec": {
   "display_name": "Python 3",
   "language": "python",
   "name": "python3"
  },
  "language_info": {
   "codemirror_mode": {
    "name": "ipython",
    "version": 3
   },
   "file_extension": ".py",
   "mimetype": "text/x-python",
   "name": "python",
   "nbconvert_exporter": "python",
   "pygments_lexer": "ipython3",
   "version": "3.7.6"
  }
 },
 "nbformat": 4,
 "nbformat_minor": 4
}

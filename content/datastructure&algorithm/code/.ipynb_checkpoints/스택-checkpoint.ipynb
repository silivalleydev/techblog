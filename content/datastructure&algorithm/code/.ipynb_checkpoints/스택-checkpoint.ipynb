{
 "cells": [
  {
   "cell_type": "code",
   "execution_count": 4,
   "metadata": {},
   "outputs": [
    {
     "name": "stdout",
     "output_type": "stream",
     "text": [
      "4\n",
      "3\n",
      "2\n",
      "1\n",
      "0\n",
      "ended\n",
      "returned 0\n",
      "returned 1\n",
      "returned 2\n",
      "returned 3\n",
      "returned 4\n"
     ]
    }
   ],
   "source": [
    "# 재귀함수\n",
    "\n",
    "## 데이터가 0보다 작으면 끝나고 아니면 recursive함수를 또 불러들여 계속 실행하는 것, 재귀함수\n",
    "def recursive(data):\n",
    "    if data < 0:\n",
    "        print(\"ended\")\n",
    "    else:\n",
    "        print(data)\n",
    "        recursive(data-1)\n",
    "        print(\"returned\", data)\n",
    "        \n",
    "recursive(4)"
   ]
  },
  {
   "cell_type": "code",
   "execution_count": 33,
   "metadata": {},
   "outputs": [
    {
     "name": "stdout",
     "output_type": "stream",
     "text": [
      "[1, 2]\n",
      "2\n"
     ]
    }
   ],
   "source": [
    "# 파이썬 리스트 기능을 이용해서 스택 만들어보기\n",
    "\n",
    "data_stack = list()\n",
    "\n",
    "# 데이터 넣기 append\n",
    "data_stack.append(1)\n",
    "data_stack.append(2)\n",
    "\n",
    "print(data_stack) # [1,2] <--append로 넣은 순서대로 들어감\n",
    "\n",
    "print(data_stack.pop()) # 2 <--나중에 들어온 2가 먼저 나감"
   ]
  },
  {
   "cell_type": "code",
   "execution_count": 66,
   "metadata": {},
   "outputs": [
    {
     "name": "stdout",
     "output_type": "stream",
     "text": [
      "push [1, 2, 3]\n",
      "pop 3\n"
     ]
    }
   ],
   "source": [
    "# 리스트 변수로 스택을 다루는 push, pop 기능 구현해보기\n",
    "\n",
    "data_stack2 = list()\n",
    "\n",
    "def push(data):\n",
    "    stack_list2.append(data)\n",
    "    \n",
    "def pop():\n",
    "    # -1은 항상 리스트의 맨끝 데이터를 가져온다\n",
    "    data = stack_list2[-1]\n",
    "    del stack_list2[-1]\n",
    "    return data\n",
    "push(1)\n",
    "push(2)\n",
    "push(3)\n",
    "\n",
    "print(\"push\",stack_list2)\n",
    "\n",
    "print(\"pop\",pop())\n",
    "\n"
   ]
  },
  {
   "cell_type": "code",
   "execution_count": null,
   "metadata": {},
   "outputs": [],
   "source": []
  },
  {
   "cell_type": "code",
   "execution_count": null,
   "metadata": {},
   "outputs": [],
   "source": []
  },
  {
   "cell_type": "code",
   "execution_count": null,
   "metadata": {},
   "outputs": [],
   "source": []
  },
  {
   "cell_type": "code",
   "execution_count": null,
   "metadata": {},
   "outputs": [],
   "source": []
  }
 ],
 "metadata": {
  "kernelspec": {
   "display_name": "Python 3",
   "language": "python",
   "name": "python3"
  },
  "language_info": {
   "codemirror_mode": {
    "name": "ipython",
    "version": 3
   },
   "file_extension": ".py",
   "mimetype": "text/x-python",
   "name": "python",
   "nbconvert_exporter": "python",
   "pygments_lexer": "ipython3",
   "version": "3.7.6"
  }
 },
 "nbformat": 4,
 "nbformat_minor": 4
}

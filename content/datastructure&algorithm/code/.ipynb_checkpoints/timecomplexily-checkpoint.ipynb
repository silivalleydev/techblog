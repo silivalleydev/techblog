{
 "cells": [
  {
   "cell_type": "code",
   "execution_count": 2,
   "metadata": {},
   "outputs": [
    {
     "name": "stdout",
     "output_type": "stream",
     "text": [
      "total is  55\n"
     ]
    }
   ],
   "source": [
    "# 1부터 n까지임\n",
    "def sum(n):\n",
    "    total = 0\n",
    "    # range 1, n 이라고 범위를 지정하면 1부터 n-1까지 반복하기 때문에 1을 더 해줘야됨\n",
    "    for i in range(1, n + 1):\n",
    "        total += i\n",
    "    print(\"total is \",total)\n",
    "    \n",
    "sum(10)"
   ]
  },
  {
   "cell_type": "code",
   "execution_count": null,
   "metadata": {},
   "outputs": [],
   "source": []
  }
 ],
 "metadata": {
  "kernelspec": {
   "display_name": "Python 3",
   "language": "python",
   "name": "python3"
  },
  "language_info": {
   "codemirror_mode": {
    "name": "ipython",
    "version": 3
   },
   "file_extension": ".py",
   "mimetype": "text/x-python",
   "name": "python",
   "nbconvert_exporter": "python",
   "pygments_lexer": "ipython3",
   "version": "3.8.5"
  }
 },
 "nbformat": 4,
 "nbformat_minor": 4
}

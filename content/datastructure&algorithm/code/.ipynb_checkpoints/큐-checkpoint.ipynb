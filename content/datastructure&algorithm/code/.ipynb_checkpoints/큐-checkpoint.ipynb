{
 "cells": [
  {
   "cell_type": "code",
   "execution_count": 4,
   "metadata": {},
   "outputs": [
    {
     "name": "stdout",
     "output_type": "stream",
     "text": [
      "2\n",
      "funcoding\n",
      "1\n"
     ]
    }
   ],
   "source": [
    "# 큐 만들기 => 파이썬에선 큐 라이브러리를 사용\n",
    "# 파이썬에서 큐 자료구조의 종류가 있는데,\n",
    "# Queue(): 일반적인 큐 자료구조(FIFO구조)\n",
    "# LifoQueue(): 나중에 입력된 데이터가 먼저 출력되는 구조(스택구조)\n",
    "# \n",
    "\n",
    "import queue\n",
    "\n",
    "# 일반적인 \n",
    "data_queue = queue.Queue()\n",
    "\n",
    "# 큐에 데이터를 넣는법(put)\n",
    "data_queue.put(\"funcoding\")\n",
    "data_queue.put(1)\n",
    "\n",
    "# 큐 데이터 사이즈\n",
    "print(data_queue.qsize())\n",
    "\n",
    "# 큐 데이터를 꺼내는법\n",
    "print(data_queue.get())\n",
    "\n",
    "print(data_queue.qsize())\n",
    " \n"
   ]
  },
  {
   "cell_type": "code",
   "execution_count": 5,
   "metadata": {},
   "outputs": [
    {
     "name": "stdout",
     "output_type": "stream",
     "text": [
      "1\n"
     ]
    }
   ],
   "source": [
    "# LIFO 큐 만들기\n",
    "data_queue2 = queue.LifoQueue()\n",
    "\n",
    "data_queue2.put(\"funcoding\")\n",
    "data_queue2.put(1)\n",
    "\n",
    "print(data_queue2.get())\n",
    " "
   ]
  },
  {
   "cell_type": "code",
   "execution_count": 7,
   "metadata": {},
   "outputs": [
    {
     "name": "stdout",
     "output_type": "stream",
     "text": [
      "(5, 10)\n"
     ]
    }
   ],
   "source": [
    "# PriorityQueue\n",
    "# 데이터를 넣을때 우선순위를 매겨서 넣는 구조이다.\n",
    "# 데이터를 꺼낼때는 처음에 넣을때 매긴 우선순위에의해 꺼내지는것\n",
    "\n",
    "data_queue3 = queue.PriorityQueue()\n",
    "\n",
    "# 데이터가 튜플 형태로 들어가고, 첫번째 인자는 우선순위, 두번째는 데이터이다.\n",
    "data_queue3.put((10,\"korea\"))\n",
    "data_queue3.put((5,10))\n",
    "data_queue3.put((15,\"china\"))\n",
    "\n",
    "\n",
    "print(data_queue3.get())"
   ]
  },
  {
   "cell_type": "code",
   "execution_count": 15,
   "metadata": {},
   "outputs": [
    {
     "name": "stdout",
     "output_type": "stream",
     "text": [
      "[0, 1, 2, 3, 4, 5, 6, 7, 8, 9]\n",
      "0\n"
     ]
    }
   ],
   "source": [
    "# 리스트 변수로 큐를 다루는 enqueue, dequeue 기능 만들기\n",
    "\n",
    "# 리스트를 만듬\n",
    "queue_list = list()\n",
    "\n",
    "# 함수 정의 def 사용\n",
    "def enqueue(data):\n",
    "    queue_list.append(data)\n",
    "    \n",
    "def dequeue():\n",
    "    data = queue_list[0]\n",
    "    # del은 리스트의 데이터를 삭제하는 명령어이다.\n",
    "    # dequeue는 먼저 들어온 데이터를 삭제해야되기 때문에 리스트에 첫번째 데이터를 삭제한다\n",
    "    del queue_list[0]\n",
    "    return data\n",
    "\n",
    "for i in range(10):\n",
    "     enqueue(i)\n",
    "        \n",
    "print(queue_list)\n",
    "print(dequeue())"
   ]
  },
  {
   "cell_type": "code",
   "execution_count": null,
   "metadata": {},
   "outputs": [],
   "source": [
    "    "
   ]
  }
 ],
 "metadata": {
  "kernelspec": {
   "display_name": "Python 3",
   "language": "python",
   "name": "python3"
  },
  "language_info": {
   "codemirror_mode": {
    "name": "ipython",
    "version": 3
   },
   "file_extension": ".py",
   "mimetype": "text/x-python",
   "name": "python",
   "nbconvert_exporter": "python",
   "pygments_lexer": "ipython3",
   "version": "3.7.6"
  }
 },
 "nbformat": 4,
 "nbformat_minor": 4
}

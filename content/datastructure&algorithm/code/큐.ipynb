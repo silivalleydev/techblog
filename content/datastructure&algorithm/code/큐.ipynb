{
 "cells": [
  {
   "cell_type": "code",
   "execution_count": null,
   "metadata": {},
   "outputs": [],
   "source": [
    "# 큐 만들기 => 파이썬에선 큐 라이브러리를 사용\n",
    "# 파이썬에서 큐 자료구조의 종류가 있는데,\n",
    "# Queue(): 일반적인 큐 자료구조(FIFO구조)\n",
    "# LifoQueue(): 나중에 입력된 데이터가 먼저 출력되는 구조(스택구조)\n",
    "# \n",
    "\n",
    "import queue\n",
    "\n",
    "# 일반적인 \n",
    "data_queue = queue.Queue()\n",
    " \n"
   ]
  }
 ],
 "metadata": {
  "kernelspec": {
   "display_name": "Python 3",
   "language": "python",
   "name": "python3"
  },
  "language_info": {
   "codemirror_mode": {
    "name": "ipython",
    "version": 3
   },
   "file_extension": ".py",
   "mimetype": "text/x-python",
   "name": "python",
   "nbconvert_exporter": "python",
   "pygments_lexer": "ipython3",
   "version": "3.7.6"
  }
 },
 "nbformat": 4,
 "nbformat_minor": 4
}

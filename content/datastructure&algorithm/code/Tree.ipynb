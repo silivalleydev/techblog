{
 "cells": [
  {
   "cell_type": "code",
   "execution_count": 6,
   "metadata": {},
   "outputs": [
    {
     "name": "stdout",
     "output_type": "stream",
     "text": [
      "True True False\n"
     ]
    }
   ],
   "source": [
    "\n",
    "class Node:\n",
    "    # 이진 탐색트리는 왼쪽, 오른쪽 최대 2개의 노드와 연결되기 때문에 아래와같이 left, right로 나눈다\n",
    "    def __init__(self, value):\n",
    "        self.value = value\n",
    "        self.left = None\n",
    "        self.right = None\n",
    "        \n",
    "class NodeMgmt:\n",
    "    # 트리를 처음 만들때 노드를 넣도록 constructor를 만드는데, 넣어준 노드가 루트노드가된다.\n",
    "    def __init__(self, head):\n",
    "        self.head = head\n",
    "        \n",
    "    # 값을 넣는 것\n",
    "    def insert(self, value):\n",
    "        # 노드를 순회해야되기때문에 루트 노드를 먼저 저장한다\n",
    "        self.current_node = self.head\n",
    "        # 트리에 넣을 값이 루트 노드의 값보다 작다면 왼쪽에 브랜치에 들어감\n",
    "        while True:\n",
    "            if value < self.current_node.value:\n",
    "                # 루트 노드의 왼쪽 브랜치랑 연결된 노드가 있다면 current_node가 left 노드가 됨\n",
    "                if self.current_node.left != None:\n",
    "                    # 이렇게 current노드에 왼쪽 노드를 넣어주면 다시 while문이 돌면서 계속 순회하게됨\n",
    "                    self.current_node = self.current_node.left\n",
    "                else:\n",
    "                    # 만약 루트 노드의 왼쪽 브랜치에 연결된 노드가 없다면 왼쪽 브랜치에 새 노드를 생성하고 while문을 멈춤\n",
    "                    self.current_node.left = Node(value)\n",
    "                    break\n",
    "            else:\n",
    "                # 만약 트리에 넣은값이 루트 노드의 값보다 크다면 오른쪽 브랜치에 들어감\n",
    "                if self.current_node.right != None:\n",
    "                    # 만약 루트 노드의 오른쪽 브랜치에 연결된 노드가 있다면 그 노드가 current 노드가 됨\n",
    "                    self.current_node = self.current_node.right\n",
    "                else:\n",
    "                    # 루트 노드의 오른쪽 브랜치에 연결되 노드가 없다면 새로운 노드를 생성하여 넣어줌\n",
    "                    self.current_node.right = Node(value)\n",
    "                    break\n",
    "    \n",
    "    # 검색했을때 해당값이 있으면 True를 반환\n",
    "    def search(self, value):\n",
    "        self.current_node = self.head\n",
    "        # self.current_node가 None이 되면 while구문 종료\n",
    "        while self.current_node:\n",
    "            if self.current_node.value == value:\n",
    "                return True\n",
    "            # 검색할 값이 루트노드 값보다 작다면 current 노드에 왼쪽 노드를 넣어줌\n",
    "            elif value < self.current_node.value: \n",
    "                self.current_node = self.current_node.left\n",
    "            else:\n",
    "                self.current_node = self.current_node.right\n",
    "        # 여기까지 왔다는 것은 while문이 끝났다는 의미고 그 의미는 이진탐색트리에 그 값은 존재하지 않는다는 것\n",
    "        # 따라서 반환되는 값은 False이다\n",
    "        return False\n",
    "    \n",
    "head = Node(3)\n",
    "BST = NodeMgmt(head)\n",
    "\n",
    "BST.insert(2)\n",
    "BST.insert(4)\n",
    "\n",
    "print(BST.search(2), BST.search(4), BST.search(5))"
   ]
  },
  {
   "cell_type": "code",
   "execution_count": null,
   "metadata": {},
   "outputs": [],
   "source": []
  }
 ],
 "metadata": {
  "kernelspec": {
   "display_name": "Python 3",
   "language": "python",
   "name": "python3"
  },
  "language_info": {
   "codemirror_mode": {
    "name": "ipython",
    "version": 3
   },
   "file_extension": ".py",
   "mimetype": "text/x-python",
   "name": "python",
   "nbconvert_exporter": "python",
   "pygments_lexer": "ipython3",
   "version": "3.8.5"
  }
 },
 "nbformat": 4,
 "nbformat_minor": 4
}

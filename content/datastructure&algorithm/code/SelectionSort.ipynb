{
 "cells": [
  {
   "cell_type": "code",
   "execution_count": 6,
   "metadata": {},
   "outputs": [
    {
     "data": {
      "text/plain": [
       "[1, 2, 3, 4]"
      ]
     },
     "execution_count": 6,
     "metadata": {},
     "output_type": "execute_result"
    }
   ],
   "source": [
    "\n",
    "\n",
    "\n",
    "arr = list()\n",
    "\n",
    "arr.append(3)\n",
    "arr.append(2)\n",
    "arr.append(4)\n",
    "arr.append(1)\n",
    "\n",
    "def selectionsort(arr):    \n",
    "    for stand in range(len(arr) - 1):\n",
    "        lowest = stand\n",
    "        # stand + 1부터 시작하는 이유는 0번째 번호를 기준으로 시작하면 1번부터 비교해나갈 것이기 때문\n",
    "        for index in range(stand + 1, len(arr)):\n",
    "            # 배열의 lowest 인덱스가 최소값이 아니라면 lowest에 인덱스를 넣어줌\n",
    "            if arr[lowest] > arr[index]:\n",
    "                lowest = index\n",
    "        arr[stand],arr[lowest] = arr[lowest],arr[stand]\n",
    "        \n",
    "selectionsort(arr)\n",
    "\n",
    "arr"
   ]
  },
  {
   "cell_type": "code",
   "execution_count": null,
   "metadata": {},
   "outputs": [],
   "source": []
  }
 ],
 "metadata": {
  "kernelspec": {
   "display_name": "Python 3",
   "language": "python",
   "name": "python3"
  },
  "language_info": {
   "codemirror_mode": {
    "name": "ipython",
    "version": 3
   },
   "file_extension": ".py",
   "mimetype": "text/x-python",
   "name": "python",
   "nbconvert_exporter": "python",
   "pygments_lexer": "ipython3",
   "version": "3.8.5"
  }
 },
 "nbformat": 4,
 "nbformat_minor": 4
}

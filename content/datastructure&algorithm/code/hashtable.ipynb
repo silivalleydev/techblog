{
 "cells": [
  {
   "cell_type": "code",
   "execution_count": 7,
   "metadata": {},
   "outputs": [
    {
     "name": "stdout",
     "output_type": "stream",
     "text": [
      "[0, 0, 0, 0, 0, 0, 0, 0, 0, 0]\n",
      "[0, 0, 0, 0, 0, 0, 0, 0, 0, 0]\n"
     ]
    }
   ],
   "source": [
    "# 초간단 해시 테이블 만들기\n",
    "# 아래의 문법은 파이썬 list comprehension\n",
    "# list([append에 넣을값 for i in range(반복횟수)])\n",
    "hash_table = list([0 for i in range(10)])\n",
    "print(hash_table)\n",
    "\n",
    "# 위의 내용은 아래와 같다\n",
    "hash_table2 = []\n",
    "for i in range(10):\n",
    "    hash_table2.append(0)\n",
    "\n",
    "print(hash_table2)"
   ]
  },
  {
   "cell_type": "code",
   "execution_count": 19,
   "metadata": {},
   "outputs": [
    {
     "name": "stdout",
     "output_type": "stream",
     "text": [
      "74 77 76 74\n",
      "data1 key => 4\n",
      "010-8883-7777 010-4444-5555 010-6666-7777 010-8883-7777\n"
     ]
    }
   ],
   "source": [
    "# 해시 함수 만들기\n",
    "# devision법 : 나머지를 통한것\n",
    "def hash_func(key):\n",
    "    return key % 5\n",
    "# 위의 함수를 통해 key를 넣게되면 해시 주소가 고정된 길이 5로나눈 나머지 값으로 나오게될것이다\n",
    "\n",
    "\n",
    "# 해시 테이블에 데이터 저장\n",
    "data1 = 'Jack'\n",
    "data2 = 'Marry'\n",
    "data3 = 'LoL'\n",
    "data4 = 'Jall'\n",
    "\n",
    "# ord(): ASC||(아스키 코드)를 리턴함\n",
    "# 각 문자열의 앞글자를 키값으로 사용\n",
    "print(ord(data1[0]), ord(data2[0]), ord(data3[0]), ord(data4[0]))\n",
    "data1_key = ord(data1[0])\n",
    "print('data1 key =>', hash_func(data1_key)) # 해시 함수를 통해 도출된 4가 해시 주소가 되는것이다\n",
    "\n",
    "# 해시 주소를 가지고 데이터를 저장\n",
    "def storage_data(data, value):\n",
    "    # 데이터로 키를 만들고\n",
    "    key = ord(data[0])\n",
    "    # 해시 함수에 키를 넣어 해시 주소를 만들고\n",
    "    hash_address = hash_func(key)\n",
    "    # 만든 해시 주소에 맞는 슬롯에 값을 넣음\n",
    "    hash_table[hash_address] = value\n",
    "    \n",
    "# 데이터 저장하고 읽기\n",
    "storage_data(data1, '010-2222-3333')\n",
    "storage_data(data2, '010-4444-5555')\n",
    "storage_data(data3, '010-6666-7777')\n",
    "storage_data(data4, '010-8883-7777')\n",
    "\n",
    "def get_data(data):\n",
    "    key = ord(data[0])\n",
    "    hash_address = hash_func(key)\n",
    "    return hash_table[hash_address]\n",
    "\n",
    "print(get_data(data1), get_data(data2), get_data(data3), get_data(data4))"
   ]
  },
  {
   "cell_type": "code",
   "execution_count": 20,
   "metadata": {},
   "outputs": [
    {
     "data": {
      "text/plain": [
       "-6037821185857213912"
      ]
     },
     "execution_count": 20,
     "metadata": {},
     "output_type": "execute_result"
    }
   ],
   "source": [
    "hash('Dave')"
   ]
  },
  {
   "cell_type": "code",
   "execution_count": 27,
   "metadata": {},
   "outputs": [
    {
     "name": "stdout",
     "output_type": "stream",
     "text": [
      "[0, 0, 0, 0, 0, 0, 0, 0, 0, 0]\n",
      "0\n",
      "6\n",
      "2\n",
      "5\n"
     ]
    },
    {
     "data": {
      "text/plain": [
       "'01055556323'"
      ]
     },
     "execution_count": 27,
     "metadata": {},
     "output_type": "execute_result"
    }
   ],
   "source": [
    "hash_table = list([0 for i in range(10)])\n",
    "print(hash_table)\n",
    "\n",
    "def hash_func(key):\n",
    "    return key % 8\n",
    "\n",
    "def get_key(data):\n",
    "    return hash(data)\n",
    "\n",
    "def save_data(data, value):\n",
    "    hash_address = hash_func(get_key(data))\n",
    "    print(hash_address)\n",
    "    hash_table[hash_address] = value\n",
    "    \n",
    "def read_data(data):\n",
    "    hash_address = hash_func(get_key(data))\n",
    "    return hash_table[hash_address]\n",
    "\n",
    "user1 = 'Dave'\n",
    "user2 = 'Jack'\n",
    "user3 = 'Dan'\n",
    "user4 = 'Dark'\n",
    "\n",
    "save_data(user1, '01022322023')\n",
    "save_data(user2, '01044353323')\n",
    "save_data(user3, '01055556323')\n",
    "save_data(user4, '07023432442')\n",
    "\n",
    "read_data(user3)"
   ]
  },
  {
   "cell_type": "code",
   "execution_count": 28,
   "metadata": {},
   "outputs": [
    {
     "data": {
      "text/plain": [
       "['01022322023', 0, '01055556323', 0, 0, '07023432442', '01044353323', 0, 0, 0]"
      ]
     },
     "execution_count": 28,
     "metadata": {},
     "output_type": "execute_result"
    }
   ],
   "source": [
    "hash_table"
   ]
  },
  {
   "cell_type": "code",
   "execution_count": 56,
   "metadata": {},
   "outputs": [
    {
     "name": "stdout",
     "output_type": "stream",
     "text": [
      "[0, 0, 0, 0, 0, 0, 0, 0, 0, 0]\n",
      "7\n",
      "1\n",
      "7\n",
      "[0, [[-2537921463249980087, '333333']], 0, 0, 0, 0, 0, [[6642054343349755527, '222222'], [-3957741891224355593, '444444']], 0, 0]\n",
      "222222\n",
      "333333\n",
      "444444\n"
     ]
    }
   ],
   "source": [
    "# chaining hashing 기법\n",
    "hash_table2 = list([0 for i in range(10)])\n",
    "print(hash_table2)\n",
    "\n",
    "def hash_func(key):\n",
    "    return key % 8\n",
    "\n",
    "def get_key(data):\n",
    "    return hash(data)\n",
    "\n",
    "def save_data(data, value):\n",
    "    index_key = get_key(data)\n",
    "    hash_address = hash_func(index_key)\n",
    "    # 슬롯을 만들때 0을 넣어줬기때문에 0이랑 비교함 아래의 상황이 아니라면 일단 데이터가 있다는 것\n",
    "    if hash_table2[hash_address] != 0:\n",
    "        # linked리스트로 구현하면 오래걸리기 때문에 일단 list를 이용하여 구현.\n",
    "        for index in range(len(hash_table2[hash_address])):\n",
    "            # hash_table의 hash_address에 슬롯에 리스트로 있기 때문에 for문으로 검색을하고\n",
    "            # 그 0번째 배열을 검색하는것은 그 키값이 현재 입력된 데이터의 키값과 같은지 확인하기 위함임\n",
    "            if hash_table2[hash_address][index][0] == index_key:\n",
    "                hash_table2[hash_address][index][1] = value\n",
    "                return\n",
    "            hash_table2[hash_address].append([index_key, value])\n",
    "    else:\n",
    "        # 데이터가 0인 경우(없는 경우)\n",
    "        hash_table2[hash_address] = [[index_key, value]]\n",
    "    \n",
    "def read_data(data):\n",
    "    index_key = get_key(data)\n",
    "    hash_address = hash_func(index_key)\n",
    "    if hash_table2[hash_address] != 0:\n",
    "        # 0이 아니라는 것은 데이터가 저장되어있다는 것\n",
    "        for index in range(len(hash_table2[hash_address])):\n",
    "            if hash_table2[hash_address][index][0] == index_key:\n",
    "                return hash_table2[hash_address][index][1]\n",
    "    else:\n",
    "        # 데이터가 없는것이기 때문에 읽지 못하는것\n",
    "        return None\n",
    "\n",
    "print(hash('David') % 8)\n",
    "print(hash('Dd') % 8)\n",
    "print(hash('Data') % 8)\n",
    "\n",
    "save_data('David','222222')\n",
    "save_data('Dd','333333')\n",
    "save_data('Data','444444')\n",
    "print(hash_table2)\n",
    "\n",
    "print(read_data('David'))\n",
    "print(read_data('Dd'))\n",
    "print(read_data('Data'))"
   ]
  },
  {
   "cell_type": "code",
   "execution_count": 108,
   "metadata": {},
   "outputs": [
    {
     "name": "stdout",
     "output_type": "stream",
     "text": [
      "[0, 0, 0, 0, 0, 0, 0, 0, 0, 0]\n",
      "7\n",
      "1\n",
      "7\n",
      "[0, [-2537921463249980087, '333333'], 0, 0, 0, 0, 0, [6642054343349755527, '222222'], [-3957741891224355593, '444444'], 0]\n",
      "222222\n",
      "333333\n",
      "444444\n"
     ]
    }
   ],
   "source": [
    "# close hashing 기법\n",
    "hash_table3 = list([0 for i in range(10)])\n",
    "print(hash_table3)\n",
    "\n",
    "def hash_func(key):\n",
    "    return key % 8\n",
    "\n",
    "def get_key(data):\n",
    "    return hash(data)\n",
    "\n",
    "def save_data(data, value):\n",
    "    index_key = get_key(data)\n",
    "    hash_address = hash_func(index_key)\n",
    "    # 슬롯을 만들때 0을 넣어줬기때문에 0이랑 비교함 아래의 상황이 아니라면 일단 데이터가 있다는 것\n",
    "    if hash_table3[hash_address] != 0:\n",
    "        # 데이터가 충돌났기 때문에 hash_address(충돌난배열번호)부터 해시 테이블의 길이만큼 검색해서 빈공간이 있다면 넣어주는 것이다 \n",
    "        for index in range(hash_address, len(hash_table3)):\n",
    "            # 만약 데이터가 없다면 해당 인덱스에 넣음\n",
    "            if hash_table3[index] == 0:\n",
    "                hash_table3[index] = [index_key, value]\n",
    "                return\n",
    "            # 키가 같다면 데이터를 업데이트\n",
    "            elif hash_table3[index][0] == index_key:\n",
    "                hash_table3[index][1] = value\n",
    "    else:\n",
    "        # 데이터가 0인 경우(없는 경우)\n",
    "        hash_table3[hash_address] = [index_key, value]\n",
    "    \n",
    "def read_data(data):\n",
    "    index_key = get_key(data)\n",
    "    hash_address = hash_func(index_key)\n",
    "    if hash_table3[hash_address] != 0:\n",
    "        for index in range(hash_address, len(hash_table3)):\n",
    "            # 만약에 해당 공간이 0이면 데이터가 저장된 적이 없기때문에 None을 반환함\n",
    "            if hash_table3[index][0] == 0:\n",
    "                return None\n",
    "            # 인덱스 키와 같다면 해당 키에 대한 값을 리턴\n",
    "            elif hash_table3[index][0] == index_key:   \n",
    "                return hash_table3[index][1]\n",
    "    else:\n",
    "        # 데이터가 없는것이기 때문에 읽지 못하는것\n",
    "        return None\n",
    "    \n",
    "print(hash('David') % 8)\n",
    "print(hash('Dd') % 8)\n",
    "print(hash('Data') % 8)\n",
    "\n",
    "save_data('David','222222')\n",
    "save_data('Dd','333333')\n",
    "save_data('Data','444444')\n",
    "print(hash_table3)\n",
    "\n",
    "print(read_data('David'))\n",
    "print(read_data('Dd'))\n",
    "print(read_data('Data'))"
   ]
  },
  {
   "cell_type": "code",
   "execution_count": 88,
   "metadata": {},
   "outputs": [
    {
     "data": {
      "text/plain": [
       "'a94a8fe5ccb19ba61c4c0873d391e987982fbbd3'"
      ]
     },
     "execution_count": 88,
     "metadata": {},
     "output_type": "execute_result"
    }
   ],
   "source": [
    "# SHA-1\n",
    "import hashlib\n",
    "\n",
    "data = 'test'.encode() # encode함수는 스트링을 Byte형태로 변환시켜주는 것이다\n",
    "hash_object = hashlib.sha1() # hashlib 라이브러리의 sha1을 사용하겠다고 선언을한다\n",
    "hash_object.update(data) # 위의 해시 오브젝트에 데이터를 업데이트해주면 해시값이 해시 오브젝트에 들어간다\n",
    "hex_dig = hash_object.hexdigest() # hexdigest: 해시오브젝트를 16진수로 추출하는함수\n",
    "hex_dig\n"
   ]
  },
  {
   "cell_type": "code",
   "execution_count": 94,
   "metadata": {},
   "outputs": [
    {
     "data": {
      "text/plain": [
       "'9f86d081884c7d659a2feaa0c55ad015a3bf4f1b2b0b822cd15d6c15b0f00a08'"
      ]
     },
     "execution_count": 94,
     "metadata": {},
     "output_type": "execute_result"
    }
   ],
   "source": [
    "# SHA-256\n",
    "import hashlib\n",
    "\n",
    "data = 'test'.encode() # encode함수는 스트링을 Byte형태로 변환시켜주는 것이다\n",
    "hash_object = hashlib.sha256() # hashlib 라이브러리의 sha256을 사용하겠다고 선언을한다\n",
    "hash_object.update(data) # 위의 해시 오브젝트에 데이터를 업데이트해주면 해시값이 해시 오브젝트에 들어간다\n",
    "hex_dig = hash_object.hexdigest() # hexdigest: 해시오브젝트를 16진수로 추출하는함수\n",
    "hex_dig\n"
   ]
  },
  {
   "cell_type": "code",
   "execution_count": 111,
   "metadata": {},
   "outputs": [
    {
     "name": "stdout",
     "output_type": "stream",
     "text": [
      "[0, 0, 0, 0, 0, 0, 0, 0, 0, 0, 0, 0, 0, 0, 0, 0]\n",
      "7\n",
      "1\n",
      "7\n",
      "[[93522153357889875539564776448390291898091266846706709766185292547775466951976, '444444'], [41288454500577170759602173815427620867758960932057963992518085078120395201641, '333333'], [75404257596651192996495076349601554552549513252973852817536161452854420788818, '222222'], 0, 0, 0, 0, 0, 0, 0, 0, 0, 0, 0, 0, 0]\n",
      "222222\n",
      "333333\n",
      "444444\n"
     ]
    }
   ],
   "source": [
    "import hashlib\n",
    "\n",
    "hash_table3 = list([0 for i in range(16)])\n",
    "print(hash_table3)\n",
    "\n",
    "def hash_func(key):\n",
    "    return key % 8\n",
    "\n",
    "def get_key(data):\n",
    "    hash_object = hashlib.sha256()\n",
    "    hash_object.update(data.encode())\n",
    "    hex_dig = hash_object.hexdigest()\n",
    "    return int(hex_dig, 16) \n",
    "    # 정수로 리턴하여 나머지 값을 구해야 주소값이 나오기 때문에 \n",
    "    # 왼쪽과 같이 16진수로 이루어진 hex_dig값과 16진수임을 int함수에 써주면 10진수인 정수로 변환된다\n",
    "\n",
    "def save_data(data, value):\n",
    "    index_key = get_key(data)\n",
    "    hash_address = hash_func(index_key)\n",
    "    # 슬롯을 만들때 0을 넣어줬기때문에 0이랑 비교함 아래의 상황이 아니라면 일단 데이터가 있다는 것\n",
    "    if hash_table3[hash_address] != 0:\n",
    "        # 데이터가 충돌났기 때문에 hash_address(충돌난배열번호)부터 해시 테이블의 길이만큼 검색해서 빈공간이 있다면 넣어주는 것이다 \n",
    "        for index in range(hash_address, len(hash_table3)):\n",
    "            # 만약 데이터가 없다면 해당 인덱스에 넣음\n",
    "            if hash_table3[index] == 0:\n",
    "                hash_table3[index] = [index_key, value]\n",
    "                return\n",
    "            # 키가 같다면 데이터를 업데이트\n",
    "            elif hash_table3[index][0] == index_key:\n",
    "                hash_table3[index][1] = value\n",
    "    else:\n",
    "        # 데이터가 0인 경우(없는 경우)\n",
    "        hash_table3[hash_address] = [index_key, value]\n",
    "    \n",
    "def read_data(data):\n",
    "    index_key = get_key(data)\n",
    "    hash_address = hash_func(index_key)\n",
    "    if hash_table3[hash_address] != 0:\n",
    "        for index in range(hash_address, len(hash_table3)):\n",
    "            # 만약에 해당 공간이 0이면 데이터가 저장된 적이 없기때문에 None을 반환함\n",
    "            if hash_table3[index][0] == 0:\n",
    "                return None\n",
    "            # 인덱스 키와 같다면 해당 키에 대한 값을 리턴\n",
    "            elif hash_table3[index][0] == index_key:   \n",
    "                return hash_table3[index][1]\n",
    "    else:\n",
    "        # 데이터가 없는것이기 때문에 읽지 못하는것\n",
    "        return None\n",
    "    \n",
    "print(hash('David') % 8)\n",
    "print(hash('Dd') % 8)\n",
    "print(hash('Data') % 8)\n",
    "\n",
    "save_data('David','222222')\n",
    "save_data('Dd','333333')\n",
    "save_data('Data','444444')\n",
    "print(hash_table3)\n",
    "\n",
    "print(read_data('David'))\n",
    "print(read_data('Dd'))\n",
    "print(read_data('Data'))\n"
   ]
  },
  {
   "cell_type": "code",
   "execution_count": 96,
   "metadata": {},
   "outputs": [
    {
     "data": {
      "text/plain": [
       "72155939486846849509759369733266486982821795810448245423168957390607644363272"
      ]
     },
     "execution_count": 96,
     "metadata": {},
     "output_type": "execute_result"
    }
   ],
   "source": [
    "\n"
   ]
  },
  {
   "cell_type": "code",
   "execution_count": null,
   "metadata": {},
   "outputs": [],
   "source": []
  }
 ],
 "metadata": {
  "kernelspec": {
   "display_name": "Python 3",
   "language": "python",
   "name": "python3"
  },
  "language_info": {
   "codemirror_mode": {
    "name": "ipython",
    "version": 3
   },
   "file_extension": ".py",
   "mimetype": "text/x-python",
   "name": "python",
   "nbconvert_exporter": "python",
   "pygments_lexer": "ipython3",
   "version": "3.8.5"
  }
 },
 "nbformat": 4,
 "nbformat_minor": 4
}

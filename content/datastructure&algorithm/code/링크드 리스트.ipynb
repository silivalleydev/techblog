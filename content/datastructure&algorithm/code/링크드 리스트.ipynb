{
 "cells": [
  {
   "cell_type": "code",
   "execution_count": 2,
   "metadata": {
    "scrolled": true
   },
   "outputs": [
    {
     "name": "stdout",
     "output_type": "stream",
     "text": [
      "1\n",
      "head next 2\n",
      "final linkedlist data 1\n",
      "final linkedlist data 2\n",
      "final linkedlist data 3\n",
      "final linkedlist data 4\n",
      "final linkedlist data 5\n",
      "final linkedlist data 6\n",
      "final linkedlist data 7\n",
      "final linkedlist data 8\n",
      "final linkedlist data 9\n"
     ]
    }
   ],
   "source": [
    "#객체지향 문법을 이용한 노드 구현\n",
    " \n",
    "# 데이터와 주소를 저장할 공간이 필요하기 때문에 클래스를 사용\n",
    "class Node:\n",
    "    # init 함수를 이용하여 이 클래스가 만들어질때마다, 객체화 될때마다 데이터와 주소를 넣음\n",
    "    # self는 생성된 객체(클래스)의 자신을 의미합니다.\n",
    "    # 아래에 만든 init의 내용은 이 클래스 형태의 객체를 생성할때 self를 제외한 인자 2개를 줄 수 있는데\n",
    "    # 만약 data하나를 준다면 연결된 주소값이 없는 데이터를 무작위 공간에 생성하는것이고\n",
    "    # 만약 data와 next(다음 데이터로 연결되는 주소값)값을 넣어준다면 무작위 공간에 데이터를 만드는데 다른 데이터와 연결된 링크드 리스트가 만들어지는 것이다.\n",
    "    def __init__(self, data, next=None):\n",
    "        self.data = data\n",
    "        self.next = next\n",
    "        \n",
    "# 노드와 노드 연결하기\n",
    "node1 = Node(1)\n",
    "node2 = Node(2)\n",
    "# 현재 위의 node1과 node2는 연결되어있지 않기 때문에 연결시켜줘야한다\n",
    "node1.next = node2\n",
    "head = node1 # head라는 변수에는 맨 처음 시작점의 node를 가리킨다\n",
    "\n",
    "print(head.data)\n",
    "print(\"head next\",head.next.data) # 결과 2, 왜냐하면 node1의 next는 node2가되고 node2의 데이터는 2이기 때문이다\n",
    "\n",
    "# 링크드 리스트로 데이터 추가하는법\n",
    "def add(data):\n",
    "    node = head\n",
    "    # node.next만 넣으면 node.next가 있으면 while문을 실행한다는 의미이고 \n",
    "    # 이렇게되면 node.next가 none일때 node의 값은 마지막 node의 값이 들어가게된다\n",
    "    while node.next: \n",
    "        node = node.next\n",
    "    # while문을 빠져나오면 마지막 node이고 그 node의 next 주소값에 새로 생성된 node를 넣어준다\n",
    "    node.next = Node(data)\n",
    "    \n",
    "for i in range(8):\n",
    "    add(i + 3)\n",
    "\n",
    "while head.next:\n",
    "    print('final linkedlist data',head.data)\n",
    "    head = head.next"
   ]
  },
  {
   "cell_type": "code",
   "execution_count": 3,
   "metadata": {
    "scrolled": true
   },
   "outputs": [
    {
     "name": "stdout",
     "output_type": "stream",
     "text": [
      "1\n",
      "node_nextdata 2\n",
      "result 1\n",
      "result 1.5\n",
      "result 2\n",
      "result 3\n",
      "result 4\n",
      "result 5\n",
      "result 6\n",
      "result 7\n",
      "result 8\n",
      "result 9\n"
     ]
    }
   ],
   "source": [
    "# node3이라는 노드를 만들어 node1과 node2 사이에 넣기\n",
    "node3 = Node(1.5)\n",
    "\n",
    "search = True\n",
    "node = node1\n",
    "print(node.data)\n",
    "\n",
    "while search:\n",
    "    if node.data == 1:\n",
    "        search = False\n",
    "    # node.data가 1일 때까지 다음 노드를 검색한다\n",
    "    else:\n",
    "        node = node.next\n",
    "\n",
    "node_next = node.next\n",
    "print('node_nextdata', node_next.data)\n",
    "node.next = node3 \n",
    "node3.next = node_next\n",
    "\n",
    "while node.next:\n",
    "    print('result',node.data)\n",
    "    node = node.next\n",
    "    "
   ]
  },
  {
   "cell_type": "code",
   "execution_count": null,
   "metadata": {},
   "outputs": [],
   "source": []
  },
  {
   "cell_type": "code",
   "execution_count": null,
   "metadata": {},
   "outputs": [],
   "source": []
  }
 ],
 "metadata": {
  "kernelspec": {
   "display_name": "Python 3",
   "language": "python",
   "name": "python3"
  }
 },
 "nbformat": 4,
 "nbformat_minor": 4
}
